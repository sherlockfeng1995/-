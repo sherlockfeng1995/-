{
 "cells": [
  {
   "cell_type": "markdown",
   "metadata": {},
   "source": [
    "# 6.3 语言模型数据集（周杰伦专辑歌词）"
   ]
  },
  {
   "cell_type": "markdown",
   "metadata": {},
   "source": [
    "如何预处理一个语言模型数据集，并将其转换成字符级循环神经网络所需要的输入格式。为此，我们收集了周杰伦从第一张专辑《Jay》到第十张专辑《跨时代》中的歌词，并在后面几节里应用循环神经网络来训练一个语言模型。当模型训练好后，我们就可以用这个模型来创作歌词。"
   ]
  },
  {
   "cell_type": "markdown",
   "metadata": {},
   "source": [
    "## 6.3.1 读取数据集"
   ]
  },
  {
   "cell_type": "code",
   "execution_count": 2,
   "metadata": {},
   "outputs": [
    {
     "data": {
      "text/plain": [
       "'想要有直升机\\n想要和你飞到宇宙去\\n想要和你融化在一起\\n融化在宇宙里\\n我每天每天每天在想想想想著你\\n这样的甜蜜\\n让我开始乡相信命运\\n感谢地心引力\\n让我碰到你\\n漂亮的让我面红的可爱女人\\n温柔的让我心疼的可'"
      ]
     },
     "execution_count": 2,
     "metadata": {},
     "output_type": "execute_result"
    }
   ],
   "source": [
    "import torch\n",
    "import random\n",
    "import zipfile\n",
    "\n",
    "with zipfile.ZipFile('../data/jaychou_lyrics.txt.zip') as zin:\n",
    "    with zin.open('jaychou_lyrics.txt')as f:\n",
    "        corpus_chars=f.read().decode('utf-8')\n",
    "corpus_chars[:100] "
   ]
  },
  {
   "cell_type": "markdown",
   "metadata": {},
   "source": [
    "数据集有6万多个字符。为了打印方便，我们把换行符替换成空格，然后仅使用前1万个字符来训练模型。"
   ]
  },
  {
   "cell_type": "code",
   "execution_count": 25,
   "metadata": {},
   "outputs": [],
   "source": [
    "corpus_chars = corpus_chars.replace('\\n', ' ').replace('\\r', ' ')\n",
    "corpus_chars=corpus_chars[0:10000]"
   ]
  },
  {
   "cell_type": "markdown",
   "metadata": {},
   "source": [
    "## 6.3.2 建立字符索引"
   ]
  },
  {
   "cell_type": "markdown",
   "metadata": {},
   "source": [
    "我们将每个字符映射成一个从0开始的连续整数，又称索引，来方便之后的数据处理。为了得到索引，我们将数据集里所有不同字符取出来，然后将其逐一映射到索引来构造词典。接着，打印vocab_size，即词典中不同字符的个数，又称词典大小。"
   ]
  },
  {
   "cell_type": "code",
   "execution_count": 98,
   "metadata": {},
   "outputs": [
    {
     "data": {
      "text/plain": [
       "{'钩': 0,\n",
       " '休': 1,\n",
       " '样': 2,\n",
       " '沙': 3,\n",
       " '迎': 4,\n",
       " '器': 5,\n",
       " '威': 6,\n",
       " '爸': 7,\n",
       " '些': 8,\n",
       " '仁': 9}"
      ]
     },
     "execution_count": 98,
     "metadata": {},
     "output_type": "execute_result"
    }
   ],
   "source": [
    "idx_to_char=list(set(corpus_chars))#set() 函数创建一个无序不重复元素集\n",
    "char_to_idx=dict([(char,i) for i,char in enumerate(idx_to_char)])#将字符映射到索引构造词典\n",
    "\n",
    "dict_slice = lambda dict_,start,end:{k:dict_[k] for k in list(dict_.keys())[start:end]}#对字典进行切片\n",
    "dict_slice(char_to_idx,0,10)"
   ]
  },
  {
   "cell_type": "markdown",
   "metadata": {},
   "source": [
    "将训练数据集中每个字符转化为索引，并打印前20个字符及其对应的索引。"
   ]
  },
  {
   "cell_type": "code",
   "execution_count": 102,
   "metadata": {},
   "outputs": [
    {
     "name": "stdout",
     "output_type": "stream",
     "text": [
      "chars: 想要有直升机 想要和你飞到宇宙去 想要和\n",
      "indices: [993, 474, 362, 953, 903, 320, 184, 993, 474, 450, 478, 435, 337, 422, 45, 34, 184, 993, 474, 450]\n"
     ]
    },
    {
     "data": {
      "text/plain": [
       "10000"
      ]
     },
     "execution_count": 102,
     "metadata": {},
     "output_type": "execute_result"
    }
   ],
   "source": [
    "corpus_indices = [char_to_idx[char] for char in corpus_chars[0:10000]]\n",
    "sample = corpus_indices[:20]\n",
    "\n",
    "print('chars:', ''.join([idx_to_char[idx] for idx in sample]))\n",
    "print('indices:', sample)\n",
    "\n",
    "char_to_idx['要']\n",
    "len(corpus_indices)"
   ]
  },
  {
   "cell_type": "markdown",
   "metadata": {},
   "source": [
    "以上代码封装在d2lzh_pytorch包里的load_data_jay_lyrics函数中，以方便后面章节调用。调用该函数后会依次得到corpus_indices、char_to_idx、idx_to_char和vocab_size这4个变量。"
   ]
  },
  {
   "cell_type": "markdown",
   "metadata": {},
   "source": [
    "## 6.3.3 时序数据的采样"
   ]
  },
  {
   "cell_type": "markdown",
   "metadata": {},
   "source": [
    " 在训练中我们需要每次随机读取小批量样本和标签。与之前章节的实验数据不同的是，时序数据的一个样本通常包含连续的字符。假设时间步数为5，样本序列为5个字符，即“想”“要”“有”“直”“升”。该样本的标签序列为这些字符分别在训练集中的下一个字符，即“要”“有”“直”“升”“机”。我们有两种方式对时序数据进行采样，分别是随机采样和相邻采样。"
   ]
  },
  {
   "cell_type": "markdown",
   "metadata": {},
   "source": [
    "下面的代码每次从数据里随机采样一个小批量。其中批量大小batch_size指每个小批量的样本数，num_steps为每个样本所包含的时间步数。 在随机采样中，每个样本是原始序列上任意截取的一段序列。相邻的两个随机小批量在原始序列上的位置不一定相毗邻。因此，我们无法用一个小批量最终时间步的隐藏状态来初始化下一个小批量的隐藏状态。在训练模型时，每次随机采样前都需要重新初始化隐藏状态。"
   ]
  },
  {
   "cell_type": "code",
   "execution_count": 103,
   "metadata": {},
   "outputs": [],
   "source": [
    "def data_iter_random(corpus_indices,batch_size,num_steps,device=None):\n",
    "#     num_steps为每个样本所包含的时间步数\n",
    "    num_examples=(len(corpus_indices)-1)//num_steps  #求样本数\n",
    "    #//为整数除法   \n",
    "    epoch_size=num_examples //batch_size #求迭代次数\n",
    "    example_indices=list(range(num_examples)) #生成长度为样本数的列表\n",
    "    random.shuffle(example_indices)#打乱顺序\n",
    "    \n",
    "    #返回从pos开始的长为num_steps的序列\n",
    "    def _data(pos):\n",
    "        return corpus_indices[pos:pos+num_steps]\n",
    "    if device is None:\n",
    "        device=['cuda'if torch.cuda.is_available()else 'cpu']\n",
    "    \n",
    "    for i in range(epoch_size):#继续随机采样\n",
    "#每次读取batch_size个随机样本，每个样本包含时间步长为num_steps的标签序列\n",
    "        i=i*batch_size\n",
    "        batch_indices=example_indices[i:i+batch_size]#每个batch的索引值\n",
    "        X=[_data(j*num_steps)for j in batch_indices]#当前的字符\n",
    "        Y=[_data(j*num_steps+1)for j in batch_indices]#当前字符的下一个字符\n",
    "        yield torch.tensor(X,dtype=torch.float32,device=device),torch.tensor(Y,dtype=torch.float32,device=device)\n",
    "        "
   ]
  },
  {
   "cell_type": "code",
   "execution_count": null,
   "metadata": {},
   "outputs": [],
   "source": []
  }
 ],
 "metadata": {
  "kernelspec": {
   "display_name": "Python 3",
   "language": "python",
   "name": "python3"
  },
  "language_info": {
   "codemirror_mode": {
    "name": "ipython",
    "version": 3
   },
   "file_extension": ".py",
   "mimetype": "text/x-python",
   "name": "python",
   "nbconvert_exporter": "python",
   "pygments_lexer": "ipython3",
   "version": "3.7.6"
  }
 },
 "nbformat": 4,
 "nbformat_minor": 4
}
