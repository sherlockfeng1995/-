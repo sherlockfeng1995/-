{
 "cells": [
  {
   "cell_type": "code",
   "execution_count": 1,
   "metadata": {},
   "outputs": [],
   "source": [
    "import torch\n",
    "from torch import nn\n",
    "from torch.nn import init\n",
    "import numpy as np\n",
    "import sys\n",
    "sys.path.append('..')\n",
    "import d2lzh_pytorch as d2l"
   ]
  },
  {
   "cell_type": "markdown",
   "metadata": {},
   "source": [
    "## 3.10.1 定义模型"
   ]
  },
  {
   "cell_type": "markdown",
   "metadata": {},
   "source": [
    "隐藏层为两层全连接层，隐藏单元个数为256，使用ReLU函数作为激活函数。"
   ]
  },
  {
   "cell_type": "code",
   "execution_count": 9,
   "metadata": {},
   "outputs": [
    {
     "name": "stdout",
     "output_type": "stream",
     "text": [
      "torch.Size([256, 784])\n",
      "torch.Size([256])\n",
      "torch.Size([10, 256])\n",
      "torch.Size([10])\n",
      "<generator object Module.parameters at 0x0000020EE57A41C8>\n"
     ]
    }
   ],
   "source": [
    "num_inputs,num_outputs,num_hiddens=784,10,256\n",
    "net=nn.Sequential(\n",
    "    d2l.FlattenLayer(),#x.view(x.shape[0],-1)对x的形状转换的这个功能自定义一个FlattenLayer\n",
    "    nn.Linear(num_inputs,num_hiddens),\n",
    "    nn.ReLU(),\n",
    "    nn.Linear(num_hiddens,num_outputs),\n",
    "    )\n",
    "for params in net.parameters(): #初始化参数\n",
    "    init.normal_(params,mean=0,std=0.01)\n",
    "    print(params.shape)\n",
    "\n"
   ]
  },
  {
   "cell_type": "markdown",
   "metadata": {},
   "source": [
    "## 3.10.2 读取数据并训练模型"
   ]
  },
  {
   "cell_type": "code",
   "execution_count": 10,
   "metadata": {},
   "outputs": [
    {
     "name": "stdout",
     "output_type": "stream",
     "text": [
      "epoch 1, loss 0.0032, train acc 0.700, test acc 0.806\n",
      "epoch 2, loss 0.0019, train acc 0.817, test acc 0.807\n",
      "epoch 3, loss 0.0017, train acc 0.843, test acc 0.826\n",
      "epoch 4, loss 0.0015, train acc 0.858, test acc 0.822\n",
      "epoch 5, loss 0.0014, train acc 0.863, test acc 0.810\n"
     ]
    }
   ],
   "source": [
    "batch_size=256\n",
    "train_iter,test_iter=d2l.load_data_fashion_mnist(batch_size)\n",
    "loss=torch.nn.CrossEntropyLoss()\n",
    "\n",
    "optimizer=torch.optim.SGD(net.parameters(),lr=0.5)\n",
    "\n",
    "num_epochs=5\n",
    "d2l.train_ch3(net,train_iter,test_iter,loss,num_epochs,batch_size,None,None,optimizer)"
   ]
  },
  {
   "cell_type": "code",
   "execution_count": null,
   "metadata": {},
   "outputs": [],
   "source": []
  },
  {
   "cell_type": "code",
   "execution_count": null,
   "metadata": {},
   "outputs": [],
   "source": []
  },
  {
   "cell_type": "code",
   "execution_count": null,
   "metadata": {},
   "outputs": [],
   "source": []
  }
 ],
 "metadata": {
  "kernelspec": {
   "display_name": "Python 3",
   "language": "python",
   "name": "python3"
  },
  "language_info": {
   "codemirror_mode": {
    "name": "ipython",
    "version": 3
   },
   "file_extension": ".py",
   "mimetype": "text/x-python",
   "name": "python",
   "nbconvert_exporter": "python",
   "pygments_lexer": "ipython3",
   "version": "3.7.6"
  }
 },
 "nbformat": 4,
 "nbformat_minor": 4
}
