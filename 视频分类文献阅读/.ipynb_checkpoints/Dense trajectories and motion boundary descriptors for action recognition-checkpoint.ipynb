{
 "cells": [
  {
   "cell_type": "markdown",
   "metadata": {},
   "source": [
    "疑问1：\n",
    "基于每个空间尺度进行密集采样是什么意思？就是说空间尺度为什么有多个？\n",
    "\n",
    "2、自相关矩阵是什么意思？\n",
    "\n",
    "3、设置阈值的时候特征值为什么只有$\\lambda^{1},\\lambda^{2}?$"
   ]
  },
  {
   "cell_type": "code",
   "execution_count": null,
   "metadata": {},
   "outputs": [],
   "source": []
  }
 ],
 "metadata": {
  "kernelspec": {
   "display_name": "Python 3",
   "language": "python",
   "name": "python3"
  },
  "language_info": {
   "codemirror_mode": {
    "name": "ipython",
    "version": 3
   },
   "file_extension": ".py",
   "mimetype": "text/x-python",
   "name": "python",
   "nbconvert_exporter": "python",
   "pygments_lexer": "ipython3",
   "version": "3.7.6"
  }
 },
 "nbformat": 4,
 "nbformat_minor": 4
}
