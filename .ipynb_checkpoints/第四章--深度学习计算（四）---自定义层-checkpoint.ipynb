{
 "cells": [
  {
   "cell_type": "markdown",
   "metadata": {},
   "source": [
    "# 4.4 自定义层"
   ]
  },
  {
   "cell_type": "markdown",
   "metadata": {},
   "source": [
    "## 4.4.1 不含模型参数的自定义层"
   ]
  },
  {
   "cell_type": "markdown",
   "metadata": {},
   "source": [
    "CenteredLayer类通过继承Module类自定义了一个将输入减掉均值后输出的层，并将层的计算定义在了forward函数里。这个层里不含模型参数。"
   ]
  },
  {
   "cell_type": "code",
   "execution_count": 1,
   "metadata": {},
   "outputs": [],
   "source": [
    "import torch\n",
    "from torch import nn\n",
    "\n",
    "class CenteredLayer(nn.Module):\n",
    "    def __init__(self,**kwargs):\n",
    "        super(CenteredLayer,self).__init__(**kwargs)\n",
    "    def forward(self,x):\n",
    "        return x-x.mean()"
   ]
  },
  {
   "cell_type": "code",
   "execution_count": 4,
   "metadata": {},
   "outputs": [
    {
     "data": {
      "text/plain": [
       "tensor([-2., -1.,  0.,  1.,  2.])"
      ]
     },
     "execution_count": 4,
     "metadata": {},
     "output_type": "execute_result"
    }
   ],
   "source": [
    "layer=CenteredLayer()\n",
    "layer(torch.tensor([1,2,3,4,5],dtype=torch.float))#tensor类型，不加入模型参数中"
   ]
  },
  {
   "cell_type": "code",
   "execution_count": 25,
   "metadata": {},
   "outputs": [
    {
     "name": "stdout",
     "output_type": "stream",
     "text": [
      "[Parameter containing:\n",
      "tensor([[ 0.0307, -0.1503,  0.3277,  ..., -0.2909, -0.2300, -0.1935],\n",
      "        [ 0.1517,  0.3018,  0.0679,  ...,  0.3481,  0.1872,  0.2509],\n",
      "        [-0.3091,  0.0945, -0.3354,  ..., -0.3193, -0.1683,  0.2361],\n",
      "        ...,\n",
      "        [ 0.1305, -0.3437, -0.0086,  ..., -0.3305,  0.3207, -0.1169],\n",
      "        [-0.1255, -0.2709, -0.1265,  ..., -0.3325, -0.3135, -0.1736],\n",
      "        [ 0.1063,  0.2315, -0.1870,  ..., -0.3370,  0.2348, -0.1007]],\n",
      "       requires_grad=True), Parameter containing:\n",
      "tensor([ 0.0548, -0.0453,  0.1646, -0.2344,  0.0354,  0.2034,  0.0871, -0.3532,\n",
      "        -0.3444,  0.0898, -0.0880, -0.2052,  0.3440,  0.1054, -0.1577,  0.0082,\n",
      "        -0.3462,  0.3360,  0.1472,  0.1294, -0.0905,  0.1094, -0.0787, -0.0315,\n",
      "        -0.0246,  0.1721,  0.2046, -0.2551, -0.3355,  0.2311,  0.1463, -0.3121,\n",
      "        -0.0961,  0.0032, -0.2699, -0.1518,  0.2890,  0.1929,  0.1326, -0.2268,\n",
      "        -0.3456,  0.2611, -0.1218,  0.2979,  0.2785,  0.0021, -0.2022, -0.0355,\n",
      "         0.1539, -0.0941,  0.0215, -0.3199,  0.1897, -0.2233, -0.0814,  0.2128,\n",
      "         0.2665,  0.3229, -0.0790,  0.0566,  0.1162,  0.1798, -0.0317, -0.1302,\n",
      "        -0.1708, -0.3167, -0.3489, -0.3374, -0.2454, -0.0733, -0.0818,  0.2290,\n",
      "        -0.2091, -0.1822, -0.1042,  0.3505, -0.1354,  0.1610,  0.3353,  0.1330,\n",
      "         0.1816, -0.1562, -0.0283,  0.0783,  0.0641,  0.2157,  0.2961,  0.0257,\n",
      "        -0.0190,  0.1419,  0.3438,  0.1484,  0.0472,  0.3371,  0.3268,  0.0836,\n",
      "        -0.3348,  0.0402, -0.2744, -0.1400, -0.1963,  0.1525,  0.2437,  0.2257,\n",
      "        -0.0195,  0.2148, -0.2229,  0.2177,  0.2428, -0.3045, -0.1780, -0.0868,\n",
      "        -0.3521,  0.1572,  0.0536,  0.2298,  0.3338,  0.0614,  0.0388,  0.3505,\n",
      "        -0.0171, -0.1243,  0.1917,  0.2498,  0.0417, -0.3182, -0.0769,  0.3245],\n",
      "       requires_grad=True)]\n"
     ]
    },
    {
     "data": {
      "text/plain": [
       "6.05359673500061e-09"
      ]
     },
     "execution_count": 25,
     "metadata": {},
     "output_type": "execute_result"
    }
   ],
   "source": [
    "#构造更复杂的模型\n",
    "\n",
    "net=nn.Sequential(\n",
    "    nn.Linear(8,128),\n",
    "    CenteredLayer()\n",
    "    )\n",
    "print([param for param in net.parameters()])#???怎么写来着\n",
    "out_put=net(torch.rand(4,8))\n",
    "out_put.mean().item()"
   ]
  },
  {
   "cell_type": "markdown",
   "metadata": {},
   "source": [
    "## 4.4.2 含模型参数的自定义层"
   ]
  },
  {
   "cell_type": "markdown",
   "metadata": {},
   "source": [
    "Parameter类其实是Tensor的子类，如果一个Tensor是Parameter，那么它会自动被添加到模型的参数列表里。所以在自定义含模型参数的层时，我们应该将参数定义成Parameter，除了像4.2.1节那样直接定义成Parameter类外，还可以使用ParameterList和ParameterDict分别定义参数的列表和字典。\n",
    "\n",
    "ParameterList接收一个Parameter实例的列表作为输入然后得到一个参数列表，使用的时候可以用索引来访问某个参数，另外也可以使用append和extend在列表后面新增参数。"
   ]
  },
  {
   "cell_type": "code",
   "execution_count": 34,
   "metadata": {},
   "outputs": [
    {
     "name": "stdout",
     "output_type": "stream",
     "text": [
      "MyListDense(\n",
      "  (params): ParameterList(\n",
      "      (0): Parameter containing: [torch.FloatTensor of size 4x4]\n",
      "      (1): Parameter containing: [torch.FloatTensor of size 4x4]\n",
      "      (2): Parameter containing: [torch.FloatTensor of size 4x4]\n",
      "      (3): Parameter containing: [torch.FloatTensor of size 4x1]\n",
      "  )\n",
      ")\n"
     ]
    }
   ],
   "source": [
    "class MyListDense(nn.Module):\n",
    "    def __init__(self):\n",
    "        super(MyListDense,self).__init__()\n",
    "        self.params=nn.ParameterList([nn.Parameter(torch.rand(4,4))for i in range(3)])\n",
    "        self.params.append(nn.Parameter(torch.randn(4,1)))#追加参数\n",
    "    \n",
    "    def forward(self,x):\n",
    "        for i in range(len(self.params)):\n",
    "            x=torch.mm(x,self.params[i])\n",
    "        return x\n",
    "\n",
    "net=MyListDense()\n",
    "print(net)"
   ]
  },
  {
   "cell_type": "markdown",
   "metadata": {},
   "source": [
    "而ParameterDict接收一个Parameter实例的字典作为输入然后得到一个参数字典，然后可以按照字典的规则使用了。例如使用update()新增参数，使用keys()返回所有键值，使用items()返回所有键值对等等"
   ]
  },
  {
   "cell_type": "code",
   "execution_count": 29,
   "metadata": {},
   "outputs": [
    {
     "name": "stdout",
     "output_type": "stream",
     "text": [
      "MyDictDense(\n",
      "  (params): ParameterDict(\n",
      "      (linear1): Parameter containing: [torch.FloatTensor of size 4x4]\n",
      "      (linear2): Parameter containing: [torch.FloatTensor of size 4x1]\n",
      "      (linear3): Parameter containing: [torch.FloatTensor of size 4x2]\n",
      "  )\n",
      ")\n"
     ]
    }
   ],
   "source": [
    "class MyDictDense(nn.Module):\n",
    "    def __init__(self):\n",
    "        super(MyDictDense,self).__init__()\n",
    "        self.params=nn.ParameterDict({\n",
    "                'linear1':nn.Parameter(torch.randn(4,4)),\n",
    "                'linear2':nn.Parameter(torch.randn(4,1))\n",
    "        })\n",
    "        self.params.update({\n",
    "            'linear3':nn.Parameter(torch.randn(4,2))\n",
    "        })\n",
    "    \n",
    "    def forward(self,x,choice='linear1'):\n",
    "        return torch.mm(x,self.params[choice])\n",
    "\n",
    "net=MyDictDense()\n",
    "print(net)"
   ]
  },
  {
   "cell_type": "code",
   "execution_count": 30,
   "metadata": {},
   "outputs": [
    {
     "name": "stdout",
     "output_type": "stream",
     "text": [
      "tensor([[ 1.8807,  1.8962, -1.1041,  1.5257]], grad_fn=<MmBackward>)\n",
      "tensor([[0.1889]], grad_fn=<MmBackward>)\n",
      "tensor([[-0.0158, -1.4635]], grad_fn=<MmBackward>)\n"
     ]
    }
   ],
   "source": [
    "x=torch.ones(1,4)\n",
    "print(net(x,'linear1'))\n",
    "print(net(x,'linear2'))\n",
    "print(net(x,'linear3'))"
   ]
  },
  {
   "cell_type": "code",
   "execution_count": 36,
   "metadata": {},
   "outputs": [
    {
     "name": "stdout",
     "output_type": "stream",
     "text": [
      "Sequential(\n",
      "  (0): MyDictDense(\n",
      "    (params): ParameterDict(\n",
      "        (linear1): Parameter containing: [torch.FloatTensor of size 4x4]\n",
      "        (linear2): Parameter containing: [torch.FloatTensor of size 4x1]\n",
      "        (linear3): Parameter containing: [torch.FloatTensor of size 4x2]\n",
      "    )\n",
      "  )\n",
      "  (1): MyListDense(\n",
      "    (params): ParameterList(\n",
      "        (0): Parameter containing: [torch.FloatTensor of size 4x4]\n",
      "        (1): Parameter containing: [torch.FloatTensor of size 4x4]\n",
      "        (2): Parameter containing: [torch.FloatTensor of size 4x4]\n",
      "        (3): Parameter containing: [torch.FloatTensor of size 4x1]\n",
      "    )\n",
      "  )\n",
      ")\n",
      "tensor([[11.3014]], grad_fn=<MmBackward>)\n"
     ]
    }
   ],
   "source": [
    "#使用自定义层构造模型\n",
    "\n",
    "net=nn.Sequential(\n",
    "    MyDictDense(),\n",
    "    MyListDense(),\n",
    ")\n",
    "print(net)\n",
    "print(net(x))"
   ]
  }
 ],
 "metadata": {
  "kernelspec": {
   "display_name": "Python 3",
   "language": "python",
   "name": "python3"
  },
  "language_info": {
   "codemirror_mode": {
    "name": "ipython",
    "version": 3
   },
   "file_extension": ".py",
   "mimetype": "text/x-python",
   "name": "python",
   "nbconvert_exporter": "python",
   "pygments_lexer": "ipython3",
   "version": "3.7.6"
  }
 },
 "nbformat": 4,
 "nbformat_minor": 4
}
