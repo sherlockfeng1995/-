{
 "cells": [
  {
   "cell_type": "markdown",
   "metadata": {},
   "source": [
    "# 4.1 模型构造"
   ]
  },
  {
   "cell_type": "markdown",
   "metadata": {},
   "source": [
    "## 4.1.1 继承Module类来构造模型"
   ]
  },
  {
   "cell_type": "markdown",
   "metadata": {},
   "source": [
    "$Module$类是$nn$模块里提供的一个模型构造类，是所有神经网络模块的基类，我们可以继承它来定义我们想要的模型。这里定义的$MLP$类重载了$Module$类的__init__函数和$forward$函数。它们分别用于创建模型参数和定义前向计算。前向计算也即正向传播。"
   ]
  },
  {
   "cell_type": "code",
   "execution_count": 2,
   "metadata": {},
   "outputs": [],
   "source": [
    "import torch\n",
    "from torch import nn\n",
    "\n",
    "class MLP(nn.Module):#这里的nn.Module代表什么意思？\n",
    "    #声明带有模型参数的层\n",
    "    def __init__(self,**kwargs):#**kwargs 打包关键字参数成dict给函数体调用\n",
    "        #调用MLP父类Module的构造函数进行必要的初始化，在构造实例时可以指定其他函数\n",
    "        super(MLP,self).__init__(**kwargs)\n",
    "        self.hidden=nn.Linear(784,256)#隐藏层\n",
    "        self.act=nn.ReLU()\n",
    "        self.output=nn.Linear(256,10)\n",
    "    \n",
    "    #定义模型的前向计算，即如何根据输入x计算返回所需要的模型输出\n",
    "    def forward(self,x):\n",
    "        a=self.act(self.hidden(x))\n",
    "        return self.output(a)"
   ]
  },
  {
   "cell_type": "markdown",
   "metadata": {},
   "source": [
    "以上的$MLP$类中无须定义反向传播函数。系统将通过自动求梯度而自动生成反向传播所需的$backward$函数。\n",
    "\n",
    "我们可以实例化$MLP$类得到模型变量$net$。下面的代码初始化$net$并传入输入数据$X$做一次前向计算。其中，$net(X)$会调用MLP继承自Module类的__call__函数，这个函数将调用MLP类定义的$forward$函数来完成前向计算。"
   ]
  },
  {
   "cell_type": "code",
   "execution_count": 5,
   "metadata": {},
   "outputs": [
    {
     "name": "stdout",
     "output_type": "stream",
     "text": [
      "net: MLP(\n",
      "  (hidden): Linear(in_features=784, out_features=256, bias=True)\n",
      "  (act): ReLU()\n",
      "  (output): Linear(in_features=256, out_features=10, bias=True)\n",
      ")\n",
      "tensor([[ 0.1372,  0.1501, -0.0492,  0.0151,  0.0223, -0.0619, -0.1411, -0.2141,\n",
      "         -0.1181, -0.2513],\n",
      "        [ 0.1422,  0.1262, -0.0446,  0.0392, -0.0861,  0.1121, -0.2125, -0.2504,\n",
      "         -0.0719, -0.2287]], grad_fn=<AddmmBackward>)\n"
     ]
    }
   ],
   "source": [
    "X=torch.rand(2,784)\n",
    "net=MLP()\n",
    "print('net:',net)\n",
    "print(net(X))#net(X)进行的啥操作啊"
   ]
  },
  {
   "cell_type": "markdown",
   "metadata": {},
   "source": [
    "Module类是一个可供自由组建的部件。它的子类既可以是一个层（如PyTorch提供的Linear类），又可以是一个模型（如这里定义的MLP类），或者是模型的一个部分。"
   ]
  },
  {
   "cell_type": "markdown",
   "metadata": {},
   "source": [
    "## 4.1.2 Module的子类"
   ]
  },
  {
   "cell_type": "markdown",
   "metadata": {},
   "source": [
    "继承自Module的构建模型的类：Sequential、ModuleList和ModuleDict"
   ]
  },
  {
   "cell_type": "markdown",
   "metadata": {},
   "source": [
    "### 4.1.2.1 Sequential 类"
   ]
  },
  {
   "cell_type": "markdown",
   "metadata": {},
   "source": [
    "当模型的前向计算为简单串联各个层的计算时，Sequential类可以通过更加简单的方式定义模型。这正是Sequential类的目的：它可以接收一个子模块的有序字典（OrderedDict）或者一系列子模块作为参数来逐一添加Module的实例，而模型的前向计算就是将这些实例按添加的顺序逐一计算。"
   ]
  },
  {
   "cell_type": "code",
   "execution_count": 8,
   "metadata": {},
   "outputs": [],
   "source": [
    "class MySequential(nn.Module):\n",
    "    from collections import OrderedDict\n",
    "    def __init__(self,*args):#*args：是一个元组，传入的参数会被放进元组里。\n",
    "        super(MySequential,self).__init__()\n",
    "        if len(args)==1 and isinstance(args[0],OrderedDict):#判断传入的参数类型是OrderedDict\n",
    "            for key,module in args[0].items():\n",
    "                self.add_module(key,module)#将module添加进self._modules(一个OrderedDict)\n",
    "        else :\n",
    "            for idx,module in enumerate(args):#将一个可遍历的数据对象(如列表、元组或字符串)组合为一个索引序列\n",
    "                self.add_module(str(idx),module)\n",
    "    #前向计算\n",
    "    def forward(self,input):\n",
    "        #self._modules返回一个OrderedDict,按照成员添加时的顺序遍历成员\n",
    "        for module in self._modules.values():\n",
    "            input=module(input)\n",
    "        return input"
   ]
  },
  {
   "cell_type": "code",
   "execution_count": 15,
   "metadata": {},
   "outputs": [
    {
     "name": "stdout",
     "output_type": "stream",
     "text": [
      "MySequential(\n",
      "  (0): Linear(in_features=784, out_features=256, bias=True)\n",
      "  (1): ReLU()\n",
      "  (2): Linear(in_features=256, out_features=10, bias=True)\n",
      ")\n",
      "X:tensor([[0.8821, 0.7461, 0.9110,  ..., 0.3447, 0.9804, 0.0335],\n",
      "        [0.1060, 0.8032, 0.5351,  ..., 0.0216, 0.7330, 0.9793]])\n",
      " net(X):tensor([[ 0.1493, -0.0041,  0.0379,  0.1569,  0.0581, -0.1640,  0.0685, -0.0134,\n",
      "         -0.0270,  0.0551],\n",
      "        [ 0.0076, -0.0473,  0.0977,  0.1127,  0.1712, -0.0858,  0.2145,  0.1271,\n",
      "          0.0767, -0.0416]], grad_fn=<AddmmBackward>)\n"
     ]
    }
   ],
   "source": [
    "#用MySequential类实现前面描述的MLP类，并使用随机初始化的模型进行前向计算\n",
    "\n",
    "net=MySequential(\n",
    "    nn.Linear(784,256),\n",
    "    nn.ReLU(),\n",
    "    nn.Linear(256,10),\n",
    "    )\n",
    "print(net)\n",
    "print('X:{}\\n net(X):{}'.format(X,net(X)))#𝑛𝑒𝑡(𝑋)会调用MLP继承自Module类的call函数，这个函数将调用MLP类定义的𝑓𝑜𝑟𝑤𝑎𝑟𝑑函数来完成前向计算。"
   ]
  },
  {
   "cell_type": "markdown",
   "metadata": {},
   "source": [
    "### 4.1.2.2 ModuleList类"
   ]
  },
  {
   "cell_type": "markdown",
   "metadata": {},
   "source": [
    "ModuleList接收一个子模块的列表作为输入，然后也可以类似List那样进行append和extend操作:"
   ]
  },
  {
   "cell_type": "code",
   "execution_count": 20,
   "metadata": {},
   "outputs": [
    {
     "name": "stdout",
     "output_type": "stream",
     "text": [
      "net[-1]: Linear(in_features=256, out_features=10, bias=True)\n",
      "net ModuleList(\n",
      "  (0): Linear(in_features=784, out_features=256, bias=True)\n",
      "  (1): ReLU()\n",
      "  (2): Linear(in_features=256, out_features=10, bias=True)\n",
      ")\n"
     ]
    }
   ],
   "source": [
    "net=nn.ModuleList([nn.Linear(784,256),nn.ReLU()])\n",
    "net.append(nn.Linear(256,10))#类似List的append操作\n",
    "print('net[-1]:',net[-1])\n",
    "print('net',net)\n",
    "# net(torch.zeros(1, 784)) # 会报NotImplementedError\n",
    "#net.append(torch.zeros(1,784)) #torch.FloatTensor is not a Module subclass"
   ]
  },
  {
   "cell_type": "markdown",
   "metadata": {},
   "source": [
    "Sequential和ModuleList的异同点：\n",
    "\n",
    "* 共同点：都可以进行列表化构造网络\n",
    "* 不同点：ModuleList仅仅是一个存储各种模块的列表，这些模块之间没有联系也没有顺序\n",
    "（所以不用保证相邻层的输入输出维度匹配），而且没有实现forward功能需要自己实现，\n",
    "所以上面执行net(torch.zeros(1, 784))会报NotImplementedError；\n",
    "        \n",
    "Sequential内的模块需要按照顺序排列，要保证相邻层的输入输出大小相匹配，\n",
    "内部forward功能已经实现。\n",
    "\n",
    "ModuleList出现只是让网络定义前向传播更加灵活。\n",
    "         "
   ]
  },
  {
   "cell_type": "code",
   "execution_count": 22,
   "metadata": {},
   "outputs": [],
   "source": [
    "class  MyModule(nn.Module):\n",
    "    def __init__(self):\n",
    "        super(MyModule,self).__init__()\n",
    "        self.linears=nn.ModuleList([nn.Linear(10,10) for i in range(10)])\n",
    "        \n",
    "    def forward(self,x):#不太懂\n",
    "        # ModuleList can act as an iterable, or be indexed using ints\n",
    "        for i,linear in enumerate(self.linears):\n",
    "            x=self.linears[i//2](x)+linear(x)\n",
    "        return x"
   ]
  },
  {
   "cell_type": "markdown",
   "metadata": {},
   "source": [
    "ModuleList不同于一般的Python的list，加入到ModuleList里面的所有模块的参数会被自动添加到整个网络中。"
   ]
  },
  {
   "cell_type": "code",
   "execution_count": 26,
   "metadata": {},
   "outputs": [
    {
     "name": "stdout",
     "output_type": "stream",
     "text": [
      "net1:\n",
      "torch.Size([10, 10])\n",
      "torch.Size([10])\n",
      "net2:\n",
      "\n"
     ]
    }
   ],
   "source": [
    "class Module_ModuleList(nn.Module):\n",
    "    def __init__(self):\n",
    "        super(Module_ModuleList,self).__init__()\n",
    "        self.linears=nn.ModuleList([nn.Linear(10,10)])\n",
    "\n",
    "class Module_List(nn.Module):\n",
    "    def __init__(self):\n",
    "        super(Module_List,self).__init__()\n",
    "        self.linears=[nn.Linear(10,10)]\n",
    "        \n",
    "net1=Module_ModuleList()\n",
    "net2=Module_List()\n",
    "\n",
    "print(\"net1:\")\n",
    "for p in net1.parameters():\n",
    "    print(p.size())\n",
    "\n",
    "print(\"net2:\\n\")\n",
    "for p in net2.parameters():\n",
    "    print(p.size())"
   ]
  },
  {
   "cell_type": "markdown",
   "metadata": {},
   "source": [
    "### 4.1.2.3 ModuleDict 类"
   ]
  },
  {
   "cell_type": "markdown",
   "metadata": {},
   "source": [
    "ModuleDict接收一个子模块的字典作为输入, 然后也可以类似字典那样进行添加访问操作："
   ]
  },
  {
   "cell_type": "code",
   "execution_count": 29,
   "metadata": {},
   "outputs": [
    {
     "name": "stdout",
     "output_type": "stream",
     "text": [
      "Linear(in_features=784, out_features=256, bias=True)\n",
      "net.output Linear(in_features=256, out_features=10, bias=True)\n",
      "net ModuleDict(\n",
      "  (act): ReLU()\n",
      "  (linear): Linear(in_features=784, out_features=256, bias=True)\n",
      "  (output): Linear(in_features=256, out_features=10, bias=True)\n",
      ")\n"
     ]
    }
   ],
   "source": [
    "net=nn.ModuleDict({\n",
    "    'linear':nn.Linear(784,256),\n",
    "    'act':nn.ReLU(),\n",
    "})\n",
    "net['output']=nn.Linear(256,10)\n",
    "print(net['linear'])\n",
    "print('net.output',net.output)\n",
    "print('net',net)\n",
    "# net(torch.zeros(1, 784)) # 会报NotImplementedError 仅能存储模型"
   ]
  },
  {
   "cell_type": "markdown",
   "metadata": {},
   "source": [
    "和ModuleList一样，ModuleDict实例仅仅是存放了一些模块的字典，并没有定义forward函数需要自己定义。同样，ModuleDict也与Python的Dict有所不同，ModuleDict里的所有模块的参数会被自动添加到整个网络中。"
   ]
  },
  {
   "cell_type": "markdown",
   "metadata": {},
   "source": [
    "## 4.1.3 构造复杂的模型"
   ]
  },
  {
   "cell_type": "markdown",
   "metadata": {},
   "source": [
    "虽然上面介绍的这些类可以使模型构造更加简单，且不需要定义forward函数，但直接继承Module类可以极大地拓展模型构造的灵活性。\n",
    "\n",
    "下面我们构造一个稍微复杂点的网络FancyMLP。在这个网络中，我们通过get_constant函数创建训练中不被迭代的参数，即常数参数。在前向计算中，除了使用创建的常数参数外，我们还使用Tensor的函数和Python的控制流，并多次调用相同的层。"
   ]
  },
  {
   "cell_type": "code",
   "execution_count": 30,
   "metadata": {},
   "outputs": [],
   "source": [
    "class FancyMLP(nn.Module):\n",
    "    def __init__(self,**kwargs):\n",
    "        super(FancyMLP,self).__init__(**kwargs)\n",
    "        \n",
    "        self.rand_weight=torch.rand((20,20),requires_grad=False)#不可训练参数(常数参数)\n",
    "        self.linear=nn.Linear(20,20) #nn.Linear中定义y=xA^(T)+b\n",
    "        \n",
    "    def forward(self,x):\n",
    "        x=self.linear(x)\n",
    "        # 使用创建的常数参数，以及nn.functional中的relu函数和mm函数\n",
    "        x=nn.functional.relu(torch.mm(x,self.rand_weight.data)+1)\n",
    "        \n",
    "        #复用全连接层，等价于两个全连接层共享参数\n",
    "        x=self.linear(x)\n",
    "        #控制流，调用item函数返回标量进行比较,不太懂它是干啥的\n",
    "        while x.norm().item()>1:\n",
    "            x/=2\n",
    "        if x.norm().item()<0.8:\n",
    "            x*=10\n",
    "        return x.sum()"
   ]
  },
  {
   "cell_type": "markdown",
   "metadata": {},
   "source": [
    "在这个FancyMLP模型中，我们使用了常数权重rand_weight（注意它不是可训练模型参数）、做了矩阵乘法操作（torch.mm）并重复使用了相同的Linear层。下面我们来测试该模型的前向计算。"
   ]
  },
  {
   "cell_type": "code",
   "execution_count": 32,
   "metadata": {},
   "outputs": [
    {
     "name": "stdout",
     "output_type": "stream",
     "text": [
      "FancyMLP(\n",
      "  (linear): Linear(in_features=20, out_features=20, bias=True)\n",
      ")\n",
      "Linear(in_features=20, out_features=20, bias=True)\n"
     ]
    },
    {
     "data": {
      "text/plain": [
       "tensor(0.3002, grad_fn=<SumBackward0>)"
      ]
     },
     "execution_count": 32,
     "metadata": {},
     "output_type": "execute_result"
    }
   ],
   "source": [
    "X=torch.rand(2,20)\n",
    "net=FancyMLP()\n",
    "print(net)\n",
    "print(net.linear)\n",
    "net(X)"
   ]
  },
  {
   "cell_type": "markdown",
   "metadata": {},
   "source": [
    "因为Fancy和Sequential类都是Module的子类，所以可以嵌套调用"
   ]
  },
  {
   "cell_type": "code",
   "execution_count": 35,
   "metadata": {},
   "outputs": [
    {
     "name": "stdout",
     "output_type": "stream",
     "text": [
      "Sequential(\n",
      "  (0): NestMLP(\n",
      "    (net): Sequential(\n",
      "      (0): Linear(in_features=40, out_features=30, bias=True)\n",
      "      (1): ReLU()\n",
      "    )\n",
      "  )\n",
      "  (1): Linear(in_features=30, out_features=20, bias=True)\n",
      "  (2): FancyMLP(\n",
      "    (linear): Linear(in_features=20, out_features=20, bias=True)\n",
      "  )\n",
      ")\n"
     ]
    },
    {
     "data": {
      "text/plain": [
       "tensor(1.7314, grad_fn=<SumBackward0>)"
      ]
     },
     "execution_count": 35,
     "metadata": {},
     "output_type": "execute_result"
    }
   ],
   "source": [
    "class NestMLP(nn.Module):\n",
    "    def __init__(self,**kwargs):\n",
    "        super(NestMLP,self).__init__(**kwargs)\n",
    "        self.net=nn.Sequential(nn.Linear(40,30),nn.ReLU())\n",
    "    \n",
    "    def forward(self,x):\n",
    "        return self.net(x)\n",
    "\n",
    "net=nn.Sequential(\n",
    "    NestMLP(),\n",
    "    nn.Linear(30,20),\n",
    "    FancyMLP())\n",
    "\n",
    "X=torch.rand(2,40)\n",
    "print(net)\n",
    "net(X)"
   ]
  },
  {
   "cell_type": "code",
   "execution_count": null,
   "metadata": {},
   "outputs": [],
   "source": []
  }
 ],
 "metadata": {
  "kernelspec": {
   "display_name": "Python 3",
   "language": "python",
   "name": "python3"
  },
  "language_info": {
   "codemirror_mode": {
    "name": "ipython",
    "version": 3
   },
   "file_extension": ".py",
   "mimetype": "text/x-python",
   "name": "python",
   "nbconvert_exporter": "python",
   "pygments_lexer": "ipython3",
   "version": "3.7.6"
  }
 },
 "nbformat": 4,
 "nbformat_minor": 4
}
