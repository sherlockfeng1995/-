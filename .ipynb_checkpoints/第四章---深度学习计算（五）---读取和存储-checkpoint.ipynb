{
 "cells": [
  {
   "cell_type": "markdown",
   "metadata": {},
   "source": [
    "将内存中训练好的模型参数存储在硬盘上供后续读取使用。"
   ]
  },
  {
   "cell_type": "markdown",
   "metadata": {},
   "source": [
    "# 4.5 读取和存储"
   ]
  },
  {
   "cell_type": "markdown",
   "metadata": {},
   "source": [
    "## 4.5.1  读写Tensor"
   ]
  },
  {
   "cell_type": "markdown",
   "metadata": {},
   "source": [
    "我们可以直接使用save函数和load函数分别存储和读取Tensor。save使用Python的<font color='red'>pickle</font>实用程序将对象进行序列化，然后将序列化的对象保存到disk，使用save可以保存各种对象,包括模型、张量和字典等。而load使用pickle unpickle工具将pickle的对象文件反序列化为内存。"
   ]
  },
  {
   "cell_type": "code",
   "execution_count": 2,
   "metadata": {},
   "outputs": [],
   "source": [
    "#创建Tensor变量x，并将其存在文件名为x.pt的文件里\n",
    "import torch\n",
    "from torch import nn\n",
    "\n",
    "x=torch.ones(3)\n",
    "torch.save(x,'x.pt')"
   ]
  },
  {
   "cell_type": "code",
   "execution_count": 4,
   "metadata": {},
   "outputs": [
    {
     "data": {
      "text/plain": [
       "tensor([1., 1., 1.])"
      ]
     },
     "execution_count": 4,
     "metadata": {},
     "output_type": "execute_result"
    }
   ],
   "source": [
    "#将数据从存储的文件读回内存\n",
    "\n",
    "x2=torch.load('x.pt')\n",
    "x2"
   ]
  },
  {
   "cell_type": "code",
   "execution_count": 5,
   "metadata": {},
   "outputs": [
    {
     "data": {
      "text/plain": [
       "[tensor([1., 1., 1.]), tensor([0., 0., 0., 0.])]"
      ]
     },
     "execution_count": 5,
     "metadata": {},
     "output_type": "execute_result"
    }
   ],
   "source": [
    "#存储一个Tensor列表并读回内存\n",
    "\n",
    "y=torch.zeros(4)\n",
    "torch.save([x,y],'xy.pt')\n",
    "xy_list=torch.load('xy.pt')\n",
    "xy_list"
   ]
  },
  {
   "cell_type": "code",
   "execution_count": 7,
   "metadata": {},
   "outputs": [
    {
     "data": {
      "text/plain": [
       "{'x': tensor([1., 1., 1.]), 'y': tensor([0., 0., 0., 0.])}"
      ]
     },
     "execution_count": 7,
     "metadata": {},
     "output_type": "execute_result"
    }
   ],
   "source": [
    "#存储并读取一个从字符串映射到Tensor的字典\n",
    "\n",
    "torch.save({'x':x,'y':y},'xy_dict.pt')\n",
    "xy=torch.load('xy_dict.pt')\n",
    "xy"
   ]
  },
  {
   "cell_type": "markdown",
   "metadata": {},
   "source": [
    "## 4.5.2 读写模型"
   ]
  },
  {
   "cell_type": "markdown",
   "metadata": {},
   "source": [
    "### 4.5.2.1 state_dict"
   ]
  },
  {
   "cell_type": "markdown",
   "metadata": {},
   "source": [
    "在PyTorch中，Module的可学习参数(即权重和偏差)，模块模型包含在参数中(通过model.parameters()访问)。state_dict是一个从参数名称隐射到参数Tesnor的字典对象。"
   ]
  },
  {
   "cell_type": "code",
   "execution_count": 14,
   "metadata": {},
   "outputs": [
    {
     "data": {
      "text/plain": [
       "OrderedDict([('hidden.weight',\n",
       "              tensor([[-0.5266,  0.5265, -0.3215],\n",
       "                      [-0.1101, -0.2470,  0.2802]])),\n",
       "             ('hidden.bias', tensor([0.3521, 0.2429])),\n",
       "             ('output.weight', tensor([[-0.4006,  0.5524]])),\n",
       "             ('output.bias', tensor([0.5427]))])"
      ]
     },
     "execution_count": 14,
     "metadata": {},
     "output_type": "execute_result"
    }
   ],
   "source": [
    "class MLP(nn.Module):\n",
    "    def __init__(self):\n",
    "        super(MLP,self).__init__()\n",
    "        self.hidden=nn.Linear(3,2)\n",
    "        self.act=nn.ReLU()\n",
    "        self.output=nn.Linear(2,1)\n",
    "    \n",
    "    def forward(self,x):\n",
    "        a=self.act(self.hidden(x))\n",
    "        return self.output(a)\n",
    "\n",
    "net=MLP()\n",
    "# net\n",
    "net.state_dict()#从参数名称映射到参数Tensor的字典对象"
   ]
  },
  {
   "cell_type": "markdown",
   "metadata": {},
   "source": [
    "只有具有可学习参数的层(卷积层、线性层等)才有state_dict中的条目。优化器(optim)也有一个state_dict，其中包含关于优化器状态以及所使用的超参数的信息。"
   ]
  },
  {
   "cell_type": "code",
   "execution_count": 12,
   "metadata": {},
   "outputs": [
    {
     "data": {
      "text/plain": [
       "{'state': {},\n",
       " 'param_groups': [{'lr': 0.001,\n",
       "   'momentum': 0.9,\n",
       "   'dampening': 0,\n",
       "   'weight_decay': 0,\n",
       "   'nesterov': False,\n",
       "   'params': [0, 1, 2, 3]}]}"
      ]
     },
     "execution_count": 12,
     "metadata": {},
     "output_type": "execute_result"
    }
   ],
   "source": [
    "optimizer=torch.optim.SGD(net.parameters(),lr=0.001,momentum=0.9)\n",
    "optimizer.state_dict()"
   ]
  },
  {
   "cell_type": "markdown",
   "metadata": {},
   "source": [
    "### 4.5.2.2 保存和加载模型"
   ]
  },
  {
   "cell_type": "markdown",
   "metadata": {},
   "source": [
    "PyTorch中保存和加载训练模型有两种常见的方法:\n",
    "\n",
    "* 仅保存和加载模型参数(state_dict)；\n",
    "* 保存和加载整个模型。"
   ]
  },
  {
   "cell_type": "markdown",
   "metadata": {},
   "source": [
    "#### 1. 保存和加载state_dict(推荐方式)"
   ]
  },
  {
   "cell_type": "code",
   "execution_count": 35,
   "metadata": {},
   "outputs": [],
   "source": [
    "#保存：\n",
    "\n",
    "PATH='./net.pt'\n",
    "torch.save(net.state_dict(),PATH)# 推荐的文件后缀名是pt或pth\n"
   ]
  },
  {
   "cell_type": "code",
   "execution_count": 36,
   "metadata": {},
   "outputs": [
    {
     "data": {
      "text/plain": [
       "OrderedDict([('hidden.weight',\n",
       "              tensor([[-0.5266,  0.5265, -0.3215],\n",
       "                      [-0.1101, -0.2470,  0.2802]])),\n",
       "             ('hidden.bias', tensor([0.3521, 0.2429])),\n",
       "             ('output.weight', tensor([[-0.4006,  0.5524]])),\n",
       "             ('output.bias', tensor([0.5427]))])"
      ]
     },
     "execution_count": 36,
     "metadata": {},
     "output_type": "execute_result"
    }
   ],
   "source": [
    "#加载\n",
    "\n",
    "net=MLP()  #model = TheModelClass(*args, **kwargs)这两个参数的作用是啥啊？？?\n",
    "# net=MLP(*args,**kwargs)\n",
    "net.load_state_dict(torch.load(PATH))\n",
    "\n",
    "net.state_dict()\n"
   ]
  },
  {
   "cell_type": "markdown",
   "metadata": {},
   "source": [
    "#### 2.保存和加载整个模型"
   ]
  },
  {
   "cell_type": "code",
   "execution_count": 37,
   "metadata": {},
   "outputs": [],
   "source": [
    "#保存\n",
    "PATH='./model.pt'\n",
    "torch.save(net,PATH)\n"
   ]
  },
  {
   "cell_type": "code",
   "execution_count": 38,
   "metadata": {},
   "outputs": [],
   "source": [
    "#加载\n",
    "model=torch.load(PATH)"
   ]
  },
  {
   "cell_type": "code",
   "execution_count": 39,
   "metadata": {},
   "outputs": [
    {
     "data": {
      "text/plain": [
       "tensor([[True],\n",
       "        [True]])"
      ]
     },
     "execution_count": 39,
     "metadata": {},
     "output_type": "execute_result"
    }
   ],
   "source": [
    "X=torch.randn(2,3)\n",
    "Y=model(X)#保存整个模型后加载的输出\n",
    "\n",
    "Y2=net(X)#保存模型参数后加载的输出\n",
    "Y2==Y\n",
    "\n",
    "#net和model有相同的模型参数"
   ]
  },
  {
   "cell_type": "markdown",
   "metadata": {},
   "source": [
    "此外，还有一些其他使用场景，例如GPU与CPU之间的模型保存与读取、使用多块GPU的模型的存储等等"
   ]
  }
 ],
 "metadata": {
  "kernelspec": {
   "display_name": "Python 3",
   "language": "python",
   "name": "python3"
  },
  "language_info": {
   "codemirror_mode": {
    "name": "ipython",
    "version": 3
   },
   "file_extension": ".py",
   "mimetype": "text/x-python",
   "name": "python",
   "nbconvert_exporter": "python",
   "pygments_lexer": "ipython3",
   "version": "3.7.6"
  }
 },
 "nbformat": 4,
 "nbformat_minor": 4
}
